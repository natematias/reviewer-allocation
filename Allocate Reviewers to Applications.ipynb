{
 "cells": [
  {
   "cell_type": "markdown",
   "metadata": {},
   "source": [
    "# Assigning Reviewers to Candidates\n",
    "[J. Nathan Matias](https://natematias.com), January 8, 2021\n",
    "\n",
    "## Documentation\n",
    "* Explanation for [how to set up the min cost flow algorithm for committee allocation](http://ozark.hendrix.edu/~yorgey/382/static/flow-network-application.pdf).\n",
    "\n",
    "* ortools library documentation: [Assignment as a Minimum Cost Flow Problem](https://developers.google.com/optimization/flow/assignment_min_cost_flow)\n",
    "\n",
    "## Illustration of the Min Cost Flow Diagram Used Here\n",
    "<img src=\"flow_graph_illustration.jpg\" alt=\"Drawing\" style=\"width: 500px;\"/>"
   ]
  },
  {
   "cell_type": "code",
   "execution_count": 1,
   "metadata": {},
   "outputs": [],
   "source": [
    "import csv, os, sys, math, datetime\n",
    "from collections import Counter, defaultdict\n",
    "from ortools.graph import pywrapgraph\n",
    "import pandas as pd\n",
    "import random\n",
    "random.seed(1729711011) #https://www.brooklynintegers.com/int/1729711011/"
   ]
  },
  {
   "cell_type": "markdown",
   "metadata": {},
   "source": [
    "# Load Data\n",
    "**anonymized-applicants.csv**: the applicant dataset needs the following columns:\n",
    "* First Name\n",
    "* Last Name\n",
    "* Columns for prioritized reviewers (with valid reviewer ID):\n",
    "  * 1 top\n",
    "  * 2\n",
    "  * 3\n",
    "  * 4 lowest\n",
    "  \n",
    "**anonymized-reviewers.csv** needs the following columns:\n",
    "* id (associated with the columns for prioritized reviewers)\n",
    "* Full Review Quota (TRUE) or (FALSE)"
   ]
  },
  {
   "cell_type": "code",
   "execution_count": 2,
   "metadata": {},
   "outputs": [],
   "source": [
    "applicant_file = \"data/anonymized-applicants.csv\"\n",
    "applicants = []\n",
    "\n",
    "with open(applicant_file) as f:\n",
    "    for row in csv.DictReader(f):\n",
    "        applicants.append(row)\n",
    "\n",
    "# randomly shuffle applicants\n",
    "# in case there are systematic\n",
    "# patterns in application order\n",
    "# that would otherwise contribute\n",
    "# to bias\n",
    "random.shuffle(applicants)"
   ]
  },
  {
   "cell_type": "code",
   "execution_count": 4,
   "metadata": {},
   "outputs": [],
   "source": [
    "reviewer_file=\"data/anonymized-reviewers.csv\"\n",
    "reviewers = []\n",
    "with open(reviewer_file) as f:\n",
    "    for row in csv.DictReader(f):\n",
    "        reviewers.append(row)\n",
    "\n",
    "        \n",
    "# randomly shuffle reviewers\n",
    "# in case there are systematic\n",
    "# patterns in reviewer order\n",
    "# that would otherwise contribute\n",
    "# to bias\n",
    "random.shuffle(reviewers)\n",
    "\n",
    "reviewers_full = [x for x in reviewers if x['Full Review Quota']==\"TRUE\"]\n",
    "reviewers_occasional = [x for x in reviewers if x['Full Review Quota']!=\"TRUE\"]"
   ]
  },
  {
   "cell_type": "markdown",
   "metadata": {},
   "source": [
    "# Validate Applicants File\n",
    "Make sure that all of the recommended reviewers are in the reviewers dataset, and if not, list out applicants where this discrepancy exists.\n",
    "As the allocator, you can then go into the spreadsheet and make any corrections as needed."
   ]
  },
  {
   "cell_type": "code",
   "execution_count": 6,
   "metadata": {},
   "outputs": [
    {
     "name": "stdout",
     "output_type": "stream",
     "text": [
      "\n",
      "\n",
      "---------------------------\n",
      "\n",
      "\n",
      "0 records have invalid reviewer suggestions\n"
     ]
    }
   ],
   "source": [
    "reviewer_netids = [x['id'].lower() for x in reviewers]\n",
    "\n",
    "validity_record = []\n",
    "\n",
    "for applicant in applicants:\n",
    "    applicant_fine = True\n",
    "    for i in range(1,5):\n",
    "        if applicant[str(i)] not in reviewer_netids:\n",
    "            applicant_fine = False\n",
    "    if(applicant_fine == False):\n",
    "        print(applicant)\n",
    "    validity_record.append(applicant_fine)\n",
    "    \n",
    "print(\"\\n\\n---------------------------\\n\\n\")\n",
    "print(\"{0} records have invalid reviewer suggestions\".format(len([x for x in validity_record if x!=True])))"
   ]
  },
  {
   "cell_type": "markdown",
   "metadata": {},
   "source": [
    "## Basic Statistics"
   ]
  },
  {
   "cell_type": "code",
   "execution_count": 7,
   "metadata": {},
   "outputs": [
    {
     "name": "stdout",
     "output_type": "stream",
     "text": [
      "100 total applicants\n",
      "16 available faculty for a full round of reviews\n",
      "6 reviewers who can take a few\n",
      "Roughly 12 reviews per full reviewer faculty\n"
     ]
    }
   ],
   "source": [
    "print(\"{0} total applicants\".format(len(applicants)))\n",
    "print(\"{0} available faculty for a full round of reviews\".format(len(reviewers_full)))\n",
    "print(\"{0} reviewers who can take a few\".format(len(reviewers_occasional)))\n",
    "print(\"Roughly {0} reviews per full reviewer faculty\".format(math.floor(len(applicants) * 2 / len(reviewers_full))))"
   ]
  },
  {
   "cell_type": "markdown",
   "metadata": {},
   "source": [
    "# Set up Graph"
   ]
  },
  {
   "cell_type": "markdown",
   "metadata": {},
   "source": [
    "### Utility Methods"
   ]
  },
  {
   "cell_type": "code",
   "execution_count": 8,
   "metadata": {},
   "outputs": [],
   "source": [
    "## Print vertex details for debugging\n",
    "def print_vertex(i):\n",
    "    print(\"{0} -> {1} (capacity {2}, cost {3})\".format(\n",
    "        start_nodes[i], end_nodes[i], \n",
    "        capacities[i], costs[i]\n",
    "    ))\n",
    "\n",
    "## Calculate the priority of a reviewer for a given candidate\n",
    "## based on provided information\n",
    "def reviewer_candidate_priority(applicant, reviewer):\n",
    "    max_cost_full = 6\n",
    "    max_cost_partial = 8\n",
    "    if(reviewer['Full Review Quota']==\"TRUE\"):\n",
    "        cost = max_cost_full\n",
    "    else:\n",
    "        cost = max_cost_partial\n",
    "    reviewer_netid = reviewer['id'].lower().strip()\n",
    "    for i in list(range(1,5)):\n",
    "        if(reviewer_netid in applicant[str(i)].lower().strip()):\n",
    "            cost = i\n",
    "    ##TODO: Calculate topic overlaps to improve precision of matches\n",
    "    return cost"
   ]
  },
  {
   "cell_type": "markdown",
   "metadata": {},
   "source": [
    "### Allocation Algorithm Settings"
   ]
  },
  {
   "cell_type": "code",
   "execution_count": 9,
   "metadata": {},
   "outputs": [],
   "source": [
    "# set up enough capacity to handle all reviews across all full reviewers\n",
    "# we can use the floor, since there are partial reviewers\n",
    "full_reviewer_assignment_count = math.floor(len(applicants) * 2 / len(reviewers_full))\n",
    "\n",
    "# no more than five reviews per partial reviewer\n",
    "partial_reviewer_assignment_count = 5 \n",
    "\n",
    "total_tasks = len(applicants) * 2\n",
    "\n",
    "reviews_per_applicant = 2\n"
   ]
  },
  {
   "cell_type": "markdown",
   "metadata": {},
   "source": [
    "### Set up Cost Flow Graph"
   ]
  },
  {
   "cell_type": "code",
   "execution_count": 10,
   "metadata": {},
   "outputs": [],
   "source": [
    "## All reviewers and candidates need to be given node IDs\n",
    "## on the same linear scale from 0..n\n",
    "counter = 1\n",
    "for reviewer in reviewers:\n",
    "    reviewer['node_index'] = counter\n",
    "    counter += 1\n",
    "    \n",
    "for applicant in applicants:\n",
    "    applicant['node_index'] = counter\n",
    "    counter += 1\n",
    "\n",
    "## START_NODES AND END_NODES:\n",
    "## tasks flow from the source (index 0) to the sink (last index)\n",
    "source_index = source = 0\n",
    "sink = sink_index = counter\n",
    "\n",
    "## each of these \"nodes\" is a node in a vertex. Example:\n",
    "## start_nodes[0] -> end_nodes[0]\n",
    "## start_nodes[1] -> end_nodes[1]\n",
    "## and so forth\n",
    "\n",
    "start_nodes = []\n",
    "end_nodes   = []\n",
    "\n",
    "## CAPACITIES: how many tasks can flow across a vertex\n",
    "## Each reviewer can take on full_reviewer_assignment_count reviewers\n",
    "##      from the Source.\n",
    "## Each applicant can take on only one review from one faculty\n",
    "## The sink can take two reviews from each applicant\n",
    "capacities = []\n",
    "\n",
    "## COSTS: proxy for priority, where higher priority = lower cost\n",
    "## on a scale from 0 to N\n",
    "costs = []\n",
    "\n",
    "## First, add vertices from the source (index 0) to the reviewers\n",
    "for reviewer in reviewers:\n",
    "    start_nodes.append(source_index)\n",
    "    end_nodes.append(reviewer['node_index'])\n",
    "    if(reviewer['Full Review Quota']==\"TRUE\"):\n",
    "        capacities.append(full_reviewer_assignment_count)\n",
    "    else:\n",
    "        capacities.append(partial_reviewer_assignment_count)\n",
    "        \n",
    "    # no cost to allocate from the source\n",
    "    costs.append(0)\n",
    "        \n",
    "    \n",
    "## now add vertices from each reviewer to each applicant:\n",
    "for reviewer in reviewers:\n",
    "    for applicant in applicants:\n",
    "        start_nodes.append(reviewer['node_index'])\n",
    "        end_nodes.append(applicant['node_index'])\n",
    "        # only one review from each reviewer\n",
    "        capacities.append(1)\n",
    "        \n",
    "        ## cost for a given reviewer applicant pair\n",
    "        costs.append(reviewer_candidate_priority(applicant, reviewer))\n",
    "        \n",
    "## now add vertices from each applicant to the sink\n",
    "for applicant in applicants:\n",
    "    start_nodes.append(applicant['node_index'])\n",
    "    end_nodes.append(sink_index)\n",
    "    # N applications per candidate\n",
    "    capacities.append(reviews_per_applicant)\n",
    "    \n",
    "    # no cost to reach the sink\n",
    "    costs.append(0)\n",
    "    \n",
    "    \n",
    "## SET SUPPLIES: This is a vector with a single count\n",
    "## for the number of supplies available at each node\n",
    "\n",
    "## set the number of supplies at the source\n",
    "supplies    = [total_tasks]\n",
    "\n",
    "## set reviewers and applicant supplies to zero\n",
    "for reviewer in reviewers:\n",
    "    supplies.append(0)\n",
    "for applicant in applicants:\n",
    "    supplies.append(0)\n",
    "\n",
    "## set the sink supply to zero\n",
    "supplies.append(total_tasks*-1)"
   ]
  },
  {
   "cell_type": "markdown",
   "metadata": {},
   "source": [
    "### Confirm validity of graph"
   ]
  },
  {
   "cell_type": "code",
   "execution_count": 11,
   "metadata": {},
   "outputs": [
    {
     "name": "stdout",
     "output_type": "stream",
     "text": [
      "True: start node, end node, cost, and capacity all have equal length\n"
     ]
    }
   ],
   "source": [
    "print(\"{0}: start node, end node, cost, and capacity all have equal length\".format(len(start_nodes) == len(end_nodes) == len(costs) == len(capacities)))"
   ]
  },
  {
   "cell_type": "code",
   "execution_count": 12,
   "metadata": {},
   "outputs": [
    {
     "name": "stdout",
     "output_type": "stream",
     "text": [
      "0 -> 1 (capacity 12, cost 0)\n",
      "0 -> 2 (capacity 12, cost 0)\n",
      "0 -> 3 (capacity 12, cost 0)\n",
      "0 -> 4 (capacity 5, cost 0)\n",
      "0 -> 5 (capacity 12, cost 0)\n",
      "0 -> 6 (capacity 5, cost 0)\n",
      "0 -> 7 (capacity 12, cost 0)\n",
      "0 -> 8 (capacity 12, cost 0)\n",
      "0 -> 9 (capacity 12, cost 0)\n",
      "0 -> 10 (capacity 12, cost 0)\n",
      "0 -> 11 (capacity 12, cost 0)\n",
      "0 -> 12 (capacity 12, cost 0)\n",
      "0 -> 13 (capacity 5, cost 0)\n",
      "0 -> 14 (capacity 12, cost 0)\n",
      "0 -> 15 (capacity 5, cost 0)\n",
      "0 -> 16 (capacity 12, cost 0)\n",
      "0 -> 17 (capacity 12, cost 0)\n",
      "0 -> 18 (capacity 12, cost 0)\n",
      "0 -> 19 (capacity 12, cost 0)\n",
      "0 -> 20 (capacity 12, cost 0)\n",
      "0 -> 21 (capacity 5, cost 0)\n",
      "0 -> 22 (capacity 5, cost 0)\n"
     ]
    }
   ],
   "source": [
    "## confirm that the source is set up properly\n",
    "# each link from the source to a reviewer\n",
    "# should have a cost of 0\n",
    "for i in range(0,len(reviewers)):\n",
    "    print_vertex(i)"
   ]
  },
  {
   "cell_type": "code",
   "execution_count": 13,
   "metadata": {},
   "outputs": [
    {
     "name": "stdout",
     "output_type": "stream",
     "text": [
      "4 -> 23 (capacity 1, cost 8)\n",
      "4 -> 24 (capacity 1, cost 8)\n",
      "4 -> 25 (capacity 1, cost 8)\n",
      "4 -> 26 (capacity 1, cost 8)\n",
      "4 -> 27 (capacity 1, cost 8)\n",
      "4 -> 28 (capacity 1, cost 8)\n",
      "4 -> 29 (capacity 1, cost 8)\n",
      "4 -> 30 (capacity 1, cost 8)\n",
      "4 -> 31 (capacity 1, cost 8)\n",
      "4 -> 32 (capacity 1, cost 8)\n",
      "4 -> 33 (capacity 1, cost 8)\n",
      "4 -> 34 (capacity 1, cost 2)\n",
      "4 -> 35 (capacity 1, cost 8)\n",
      "4 -> 36 (capacity 1, cost 8)\n",
      "4 -> 37 (capacity 1, cost 8)\n",
      "4 -> 38 (capacity 1, cost 8)\n",
      "4 -> 39 (capacity 1, cost 8)\n",
      "4 -> 40 (capacity 1, cost 8)\n",
      "4 -> 41 (capacity 1, cost 8)\n",
      "4 -> 42 (capacity 1, cost 8)\n"
     ]
    }
   ],
   "source": [
    "## confirm some of the reviewer to applicant links (reviewer 3)\n",
    "#  the capacity for each should be 1 and the cost should vary\n",
    "for i in range(len(reviewers) + len(applicants)*3, len(reviewers) + len(applicants*3) + 20):\n",
    "    print_vertex(i)"
   ]
  },
  {
   "cell_type": "code",
   "execution_count": 14,
   "metadata": {},
   "outputs": [
    {
     "name": "stdout",
     "output_type": "stream",
     "text": [
      "23 -> 123 (capacity 2, cost 0)\n",
      "24 -> 123 (capacity 2, cost 0)\n",
      "25 -> 123 (capacity 2, cost 0)\n",
      "26 -> 123 (capacity 2, cost 0)\n",
      "27 -> 123 (capacity 2, cost 0)\n",
      "28 -> 123 (capacity 2, cost 0)\n",
      "29 -> 123 (capacity 2, cost 0)\n",
      "30 -> 123 (capacity 2, cost 0)\n",
      "31 -> 123 (capacity 2, cost 0)\n",
      "32 -> 123 (capacity 2, cost 0)\n",
      "33 -> 123 (capacity 2, cost 0)\n",
      "34 -> 123 (capacity 2, cost 0)\n",
      "35 -> 123 (capacity 2, cost 0)\n",
      "36 -> 123 (capacity 2, cost 0)\n",
      "37 -> 123 (capacity 2, cost 0)\n",
      "38 -> 123 (capacity 2, cost 0)\n",
      "39 -> 123 (capacity 2, cost 0)\n",
      "40 -> 123 (capacity 2, cost 0)\n",
      "41 -> 123 (capacity 2, cost 0)\n",
      "42 -> 123 (capacity 2, cost 0)\n",
      "43 -> 123 (capacity 2, cost 0)\n",
      "44 -> 123 (capacity 2, cost 0)\n",
      "45 -> 123 (capacity 2, cost 0)\n",
      "46 -> 123 (capacity 2, cost 0)\n",
      "47 -> 123 (capacity 2, cost 0)\n",
      "48 -> 123 (capacity 2, cost 0)\n",
      "49 -> 123 (capacity 2, cost 0)\n",
      "50 -> 123 (capacity 2, cost 0)\n",
      "51 -> 123 (capacity 2, cost 0)\n",
      "52 -> 123 (capacity 2, cost 0)\n",
      "53 -> 123 (capacity 2, cost 0)\n",
      "54 -> 123 (capacity 2, cost 0)\n",
      "55 -> 123 (capacity 2, cost 0)\n",
      "56 -> 123 (capacity 2, cost 0)\n",
      "57 -> 123 (capacity 2, cost 0)\n",
      "58 -> 123 (capacity 2, cost 0)\n",
      "59 -> 123 (capacity 2, cost 0)\n",
      "60 -> 123 (capacity 2, cost 0)\n",
      "61 -> 123 (capacity 2, cost 0)\n",
      "62 -> 123 (capacity 2, cost 0)\n",
      "63 -> 123 (capacity 2, cost 0)\n",
      "64 -> 123 (capacity 2, cost 0)\n",
      "65 -> 123 (capacity 2, cost 0)\n",
      "66 -> 123 (capacity 2, cost 0)\n",
      "67 -> 123 (capacity 2, cost 0)\n",
      "68 -> 123 (capacity 2, cost 0)\n",
      "69 -> 123 (capacity 2, cost 0)\n",
      "70 -> 123 (capacity 2, cost 0)\n",
      "71 -> 123 (capacity 2, cost 0)\n",
      "72 -> 123 (capacity 2, cost 0)\n",
      "73 -> 123 (capacity 2, cost 0)\n",
      "74 -> 123 (capacity 2, cost 0)\n",
      "75 -> 123 (capacity 2, cost 0)\n",
      "76 -> 123 (capacity 2, cost 0)\n",
      "77 -> 123 (capacity 2, cost 0)\n",
      "78 -> 123 (capacity 2, cost 0)\n",
      "79 -> 123 (capacity 2, cost 0)\n",
      "80 -> 123 (capacity 2, cost 0)\n",
      "81 -> 123 (capacity 2, cost 0)\n",
      "82 -> 123 (capacity 2, cost 0)\n",
      "83 -> 123 (capacity 2, cost 0)\n",
      "84 -> 123 (capacity 2, cost 0)\n",
      "85 -> 123 (capacity 2, cost 0)\n",
      "86 -> 123 (capacity 2, cost 0)\n",
      "87 -> 123 (capacity 2, cost 0)\n",
      "88 -> 123 (capacity 2, cost 0)\n",
      "89 -> 123 (capacity 2, cost 0)\n",
      "90 -> 123 (capacity 2, cost 0)\n",
      "91 -> 123 (capacity 2, cost 0)\n",
      "92 -> 123 (capacity 2, cost 0)\n",
      "93 -> 123 (capacity 2, cost 0)\n",
      "94 -> 123 (capacity 2, cost 0)\n",
      "95 -> 123 (capacity 2, cost 0)\n",
      "96 -> 123 (capacity 2, cost 0)\n",
      "97 -> 123 (capacity 2, cost 0)\n",
      "98 -> 123 (capacity 2, cost 0)\n",
      "99 -> 123 (capacity 2, cost 0)\n",
      "100 -> 123 (capacity 2, cost 0)\n",
      "101 -> 123 (capacity 2, cost 0)\n",
      "102 -> 123 (capacity 2, cost 0)\n",
      "103 -> 123 (capacity 2, cost 0)\n",
      "104 -> 123 (capacity 2, cost 0)\n",
      "105 -> 123 (capacity 2, cost 0)\n",
      "106 -> 123 (capacity 2, cost 0)\n",
      "107 -> 123 (capacity 2, cost 0)\n",
      "108 -> 123 (capacity 2, cost 0)\n",
      "109 -> 123 (capacity 2, cost 0)\n",
      "110 -> 123 (capacity 2, cost 0)\n",
      "111 -> 123 (capacity 2, cost 0)\n",
      "112 -> 123 (capacity 2, cost 0)\n",
      "113 -> 123 (capacity 2, cost 0)\n",
      "114 -> 123 (capacity 2, cost 0)\n",
      "115 -> 123 (capacity 2, cost 0)\n",
      "116 -> 123 (capacity 2, cost 0)\n",
      "117 -> 123 (capacity 2, cost 0)\n",
      "118 -> 123 (capacity 2, cost 0)\n",
      "119 -> 123 (capacity 2, cost 0)\n",
      "120 -> 123 (capacity 2, cost 0)\n",
      "121 -> 123 (capacity 2, cost 0)\n"
     ]
    }
   ],
   "source": [
    "## confirm that the sink is set up properly\n",
    "# each applicant should have a capacity of 2 and cost of 0\n",
    "for i in range(len(start_nodes) - len(applicants), len(start_nodes)-1):\n",
    "    print_vertex(i)"
   ]
  },
  {
   "cell_type": "code",
   "execution_count": 15,
   "metadata": {},
   "outputs": [
    {
     "name": "stdout",
     "output_type": "stream",
     "text": [
      "True: sum of the supplies is zero\n",
      "True: correct number of supplies\n",
      "[200, 0, 0, 0, 0, 0, 0, 0, 0, 0, 0, 0, 0, 0, 0, 0, 0, 0, 0, 0, 0, 0, 0, 0, 0, 0, 0, 0, 0, 0, 0, 0, 0, 0, 0, 0, 0, 0, 0, 0, 0, 0, 0, 0, 0, 0, 0, 0, 0, 0, 0, 0, 0, 0, 0, 0, 0, 0, 0, 0, 0, 0, 0, 0, 0, 0, 0, 0, 0, 0, 0, 0, 0, 0, 0, 0, 0, 0, 0, 0, 0, 0, 0, 0, 0, 0, 0, 0, 0, 0, 0, 0, 0, 0, 0, 0, 0, 0, 0, 0, 0, 0, 0, 0, 0, 0, 0, 0, 0, 0, 0, 0, 0, 0, 0, 0, 0, 0, 0, 0, 0, 0, 0, -200]\n"
     ]
    }
   ],
   "source": [
    "## confirm that the sum of the supplies is zero\n",
    "print(\"{0}: sum of the supplies is zero\".format(sum(supplies)==0))\n",
    "print(\"{0}: correct number of supplies\".format(len(set(start_nodes)) +1 == len(set(end_nodes)) + 1 == len(supplies)))\n",
    "print(supplies)"
   ]
  },
  {
   "cell_type": "markdown",
   "metadata": {},
   "source": [
    "## Set up min cost flow object\n",
    "In a valid graph:\n",
    "* The capacity can be greater than the actual flows\n",
    "* The supply and the sink need to be equal\n",
    "* All of the supply needs to flow to the sink"
   ]
  },
  {
   "cell_type": "code",
   "execution_count": 16,
   "metadata": {},
   "outputs": [],
   "source": [
    "min_cost_flow = pywrapgraph.SimpleMinCostFlow()\n",
    "\n",
    "# Add each arc.\n",
    "for i in range(len(start_nodes)):\n",
    "    min_cost_flow.AddArcWithCapacityAndUnitCost(start_nodes[i], end_nodes[i],\n",
    "                                                capacities[i], costs[i])\n",
    "# Add node supplies.\n",
    "for i in range(len(supplies)):\n",
    "    min_cost_flow.SetNodeSupply(i, supplies[i])"
   ]
  },
  {
   "cell_type": "code",
   "execution_count": 17,
   "metadata": {},
   "outputs": [
    {
     "data": {
      "text/plain": [
       "2322"
      ]
     },
     "execution_count": 17,
     "metadata": {},
     "output_type": "execute_result"
    }
   ],
   "source": [
    "min_cost_flow.NumArcs()"
   ]
  },
  {
   "cell_type": "markdown",
   "metadata": {},
   "source": [
    "## (optional) Output Dotfile of Graph\n",
    "This dotfile can be loaded into Gephi or output to GraphVis in order to debug and confirm that the solution is acceptable."
   ]
  },
  {
   "cell_type": "code",
   "execution_count": 33,
   "metadata": {},
   "outputs": [
    {
     "name": "stdout",
     "output_type": "stream",
     "text": [
      "Total cost =  341\n",
      "\n"
     ]
    }
   ],
   "source": [
    "def applicant_name(applicant):\n",
    "    return applicant['First Name'].replace(\" \", \"_\").replace(\"-\", \"_\") + \"_\" + applicant['Last Name'].replace(\" \", \"_\").replace(\"-\", \"_\")\n",
    "\n",
    "if min_cost_flow.Solve() == min_cost_flow.OPTIMAL:\n",
    "    print('Total cost = ', min_cost_flow.OptimalCost())\n",
    "    print()\n",
    "\n",
    "    ## output to dotfile\n",
    "    with open(\"data/{0}-allocation-graph.dot\".format(int(datetime.datetime.utcnow().timestamp())), \"w\") as f:\n",
    "\n",
    "        print(\"digraph g{\", file=f)\n",
    "        for reviewer in reviewers:\n",
    "            print(\"{} [type=reviewer];\".format(reviewer['id'].replace(\"-\",\"_\")), file=f)\n",
    "        for applicant in applicants:\n",
    "            print(\"{} [type=applicant];\".format(applicant_name(applicant).replace(\"-\",\"_\")), file=f)\n",
    "\n",
    "\n",
    "        for arc in range(min_cost_flow.NumArcs()):\n",
    "\n",
    "          # Can ignore arcs leading out of source or into sink.\n",
    "         if min_cost_flow.Tail(arc)!=source and min_cost_flow.Head(arc)!=sink:\n",
    "\n",
    "            # Arcs in the solution have a flow value of 1. Their start and end nodes\n",
    "            # give an assignment of worker to task.\n",
    "\n",
    "            if min_cost_flow.Flow(arc) > 0:\n",
    "              applicant = applicants[min_cost_flow.Head(arc) - len(reviewers) - 1]\n",
    "              print('%s -> %s [weight = %d];' % (\n",
    "                    reviewers[min_cost_flow.Tail(arc)-1]['id'].replace(\"-\",\"_\"),\n",
    "                    (applicant_name(applicant).replace(\"-\",\"_\")),\n",
    "                    min_cost_flow.UnitCost(arc)), file=f)\n",
    "        print(\"}\", file=f)\n",
    "else:\n",
    "    print('There was an issue with the min cost flow input.')"
   ]
  },
  {
   "cell_type": "markdown",
   "metadata": {},
   "source": [
    "# Output Applicant Spreadsheet with Assignment Columns\n",
    "This code takes the applicant dataset and adds two columns to it:\n",
    "* Reviewer 1\n",
    "* Reviewer 2\n",
    "\n",
    "These are the final reviewers. **Reviewers are not listed in any particular order**."
   ]
  },
  {
   "cell_type": "markdown",
   "metadata": {},
   "source": [
    "### Add assignment columns to list of dicts"
   ]
  },
  {
   "cell_type": "code",
   "execution_count": 19,
   "metadata": {},
   "outputs": [],
   "source": [
    "for applicant in applicants:\n",
    "    if('reviewer 1' in applicant.keys()):\n",
    "        del applicant['reviewer 1']\n",
    "    if('reviewer 2'in applicant.keys()):\n",
    "        del applicant['reviewer 2']"
   ]
  },
  {
   "cell_type": "code",
   "execution_count": 21,
   "metadata": {},
   "outputs": [
    {
     "name": "stdout",
     "output_type": "stream",
     "text": [
      "Total cost =  341\n"
     ]
    }
   ],
   "source": [
    "if min_cost_flow.Solve() == min_cost_flow.OPTIMAL:\n",
    "    print('Total cost = ', min_cost_flow.OptimalCost())       \n",
    "    for arc in range(min_cost_flow.NumArcs()):\n",
    "     # ignore arcs leading out of source or into sink.\n",
    "     if min_cost_flow.Tail(arc)!=source and min_cost_flow.Head(arc)!=sink:\n",
    "        # Arcs in the solution have a flow value of 1. Their start and end nodes\n",
    "        # give an assignment of worker to task.\n",
    "        if min_cost_flow.Flow(arc) > 0:\n",
    "            applicant = applicants[min_cost_flow.Head(arc) - len(reviewers) - 1]\n",
    "            if('reviewer 1' not in applicant.keys()):\n",
    "                applicant['reviewer 1'] = reviewers[min_cost_flow.Tail(arc)-1]['id']\n",
    "                applicant['priority 1'] = min_cost_flow.UnitCost(arc) \n",
    "            else:\n",
    "                applicant['reviewer 2'] = reviewers[min_cost_flow.Tail(arc)-1]['id']\n",
    "                applicant['priority 2'] = min_cost_flow.UnitCost(arc) "
   ]
  },
  {
   "cell_type": "markdown",
   "metadata": {},
   "source": [
    "### Check Balance of reviews per faculty"
   ]
  },
  {
   "cell_type": "code",
   "execution_count": 22,
   "metadata": {},
   "outputs": [
    {
     "data": {
      "text/plain": [
       "dict_keys(['', 'Last Name', 'First Name', '1', '2', '3', '4', 'node_index', 'reviewer 1', 'priority 1', 'reviewer 2', 'priority 2'])"
      ]
     },
     "execution_count": 22,
     "metadata": {},
     "output_type": "execute_result"
    }
   ],
   "source": [
    "applicant.keys()"
   ]
  },
  {
   "cell_type": "code",
   "execution_count": 23,
   "metadata": {},
   "outputs": [
    {
     "name": "stdout",
     "output_type": "stream",
     "text": [
      "7d50df7d-8b0d-4b43-a90e-375298ecddb3: 12\n",
      "8008686c-7de9-42d8-b27a-2abbebd44e33: 12\n",
      "eaba192c-e945-4c8a-a800-47907aa33c50: 12\n",
      "e5203f9d-8874-4f97-882a-fceb05863ea5: 12\n",
      "ee2b28ae-0630-489a-9287-d6e677404815: 11\n",
      "2da9f25d-e3cf-4633-8e15-233157071d75: 12\n",
      "b44a1a08-334f-4223-93e1-1fde6f090f75: 5\n",
      "2fec5177-e9a6-45cc-9dfd-bff6fe5f4bc0: 12\n",
      "4282ce75-1089-4aac-9bfe-55e65a6312d4: 12\n",
      "42afa2ed-5735-42df-b6a4-e1b6b6e6d151: 4\n",
      "894ed6f3-b99c-44fc-beb5-1e4858e20224: 12\n",
      "a13619cd-e1eb-4b49-9a19-e0e423577037: 12\n",
      "139b90b3-ca25-4ccb-97c9-0dbf3fa1cc3a: 12\n",
      "47d768f6-3d10-4a8a-90ed-31388f9ae08a: 1\n",
      "bee21ae1-487a-454c-a17d-1d097d9045ab: 12\n",
      "5338d673-a089-4ad4-9d6c-a8184fd16a4d: 10\n",
      "3516c055-4219-4558-bf60-71f2379c8e29: 12\n",
      "34a6e61c-0ee3-4803-8728-e6ac8f7582d3: 12\n",
      "8e826cfa-608b-4409-9203-4ae1b7c5550a: 12\n",
      "45b7d43f-50d4-49e3-91ca-3a4e2d8bc810: 1\n"
     ]
    }
   ],
   "source": [
    "reviewer_reviews = defaultdict(list)\n",
    "for applicant in applicants:\n",
    "    reviewer_reviews[applicant['reviewer 1']].append(applicant['Last Name'] + \", \" + applicant['First Name'])\n",
    "    reviewer_reviews[applicant['reviewer 2']].append(applicant['Last Name'] + \", \" + applicant['First Name'])\n",
    "\n",
    "for reviewer, review_names in reviewer_reviews.items():\n",
    "    print(\"{0}: {1}\".format(reviewer, len(review_names)))"
   ]
  },
  {
   "cell_type": "markdown",
   "metadata": {},
   "source": [
    "# Write to CSV"
   ]
  },
  {
   "cell_type": "code",
   "execution_count": 24,
   "metadata": {},
   "outputs": [],
   "source": [
    "pd.DataFrame(applicants).to_csv(\"data/{0}-applicant-reviewer-allocations.csv\".format(int(datetime.datetime.utcnow().timestamp())))"
   ]
  }
 ],
 "metadata": {
  "kernelspec": {
   "display_name": "Python 3",
   "language": "python",
   "name": "python3"
  },
  "language_info": {
   "codemirror_mode": {
    "name": "ipython",
    "version": 3
   },
   "file_extension": ".py",
   "mimetype": "text/x-python",
   "name": "python",
   "nbconvert_exporter": "python",
   "pygments_lexer": "ipython3",
   "version": "3.9.1"
  },
  "varInspector": {
   "cols": {
    "lenName": 16,
    "lenType": 16,
    "lenVar": 40
   },
   "kernels_config": {
    "python": {
     "delete_cmd_postfix": "",
     "delete_cmd_prefix": "del ",
     "library": "var_list.py",
     "varRefreshCmd": "print(var_dic_list())"
    },
    "r": {
     "delete_cmd_postfix": ") ",
     "delete_cmd_prefix": "rm(",
     "library": "var_list.r",
     "varRefreshCmd": "cat(var_dic_list()) "
    }
   },
   "types_to_exclude": [
    "module",
    "function",
    "builtin_function_or_method",
    "instance",
    "_Feature"
   ],
   "window_display": false
  }
 },
 "nbformat": 4,
 "nbformat_minor": 4
}
